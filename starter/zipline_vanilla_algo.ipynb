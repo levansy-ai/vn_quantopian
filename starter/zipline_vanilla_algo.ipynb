{
 "cells": [
  {
   "cell_type": "code",
   "execution_count": null,
   "metadata": {},
   "outputs": [],
   "source": [
    "import warnings\n",
    "from datetime import datetime\n",
    "\n",
    "import matplotlib.pyplot as plt\n",
    "import pandas as pd\n",
    "import pytz\n",
    "import zipline\n",
    "from matplotlib import style\n",
    "from six import viewkeys\n",
    "from trading_calendars import get_calendar\n",
    "from zipline.api import (\n",
    "    attach_pipeline,\n",
    "    date_rules,\n",
    "    order_target_percent,\n",
    "    pipeline_output,\n",
    "    record,\n",
    "    schedule_function,\n",
    ")\n",
    "from zipline.data.bundles import register\n",
    "from zipline.data.bundles.csvdir import csvdir_equities\n",
    "from zipline.pipeline import Pipeline\n",
    "from zipline.pipeline.factors import RSI"
   ]
  },
  {
   "cell_type": "code",
   "execution_count": null,
   "metadata": {},
   "outputs": [],
   "source": [
    "warnings.filterwarnings(\"ignore\")"
   ]
  },
  {
   "cell_type": "code",
   "execution_count": null,
   "metadata": {},
   "outputs": [],
   "source": [
    "try:\n",
    "    zipline.data.bundles.unregister('hose')\n",
    "except Exception as e:\n",
    "    print(e)\n",
    "    print(\"# Register the HOSE bundle\")\n",
    "    start_session = pd.Timestamp('2016-01-04', tz='utc')\n",
    "    end_session = pd.Timestamp('2019-04-22', tz='utc')\n",
    "\n",
    "    register(\n",
    "        'hose',\n",
    "        csvdir_equities(\n",
    "            ['daily'],\n",
    "            '/home/doidoi/Documents/cryptocean/csvdir',\n",
    "        ),\n",
    "        calendar_name='HOSE',  # HOSE Vietnam\n",
    "        start_session=start_session,\n",
    "        end_session=end_session\n",
    "    )"
   ]
  },
  {
   "cell_type": "code",
   "execution_count": null,
   "metadata": {},
   "outputs": [],
   "source": [
    "# !zipline bundles"
   ]
  },
  {
   "cell_type": "code",
   "execution_count": null,
   "metadata": {},
   "outputs": [],
   "source": [
    "# zipline.data.bundles.bundles"
   ]
  },
  {
   "cell_type": "code",
   "execution_count": null,
   "metadata": {
    "scrolled": true
   },
   "outputs": [],
   "source": [
    "!zipline clean --bundle hose --before 2099-01-01\n",
    "!zipline ingest -b hose"
   ]
  },
  {
   "cell_type": "code",
   "execution_count": null,
   "metadata": {},
   "outputs": [],
   "source": [
    "def make_pipeline():\n",
    "    rsi = RSI()\n",
    "    return Pipeline(\n",
    "        columns={\n",
    "            'longs': rsi.top(3),\n",
    "            'shorts': rsi.bottom(3),\n",
    "        },\n",
    "    )\n",
    "\n",
    "\n",
    "def rebalance(context, data):\n",
    "    # Pipeline data will be a dataframe with boolean columns named 'longs' and\n",
    "    # 'shorts'.\n",
    "    pipeline_data = context.pipeline_data\n",
    "    all_assets = pipeline_data.index\n",
    "\n",
    "    longs = all_assets[pipeline_data.longs]\n",
    "    shorts = all_assets[pipeline_data.shorts]\n",
    "    record(universe_size=len(all_assets))\n",
    "    \n",
    "    print(context.blotter.current_dt)\n",
    "    print(\"longs: \" + str(longs))\n",
    "    print(\"shorts: \" + str(shorts))\n",
    "    print(\"portfolio value: \" + str(context.portfolio.portfolio_value))\n",
    "    \n",
    "    # Build a equal-weight, long-short portfolio.\n",
    "    one_fourth = 1.0 / 4.0\n",
    "    for asset in longs:\n",
    "        order_target_percent(asset, one_fourth)\n",
    "\n",
    "    for asset in shorts:\n",
    "        order_target_percent(asset, -one_fourth)\n",
    "\n",
    "    # Remove any assets that should no longer be in our portfolio.\n",
    "    portfolio_assets = longs | shorts\n",
    "\n",
    "    positions = context.portfolio.positions\n",
    "    for asset in viewkeys(positions) - set(portfolio_assets):\n",
    "        # This will fail if the asset was removed from our portfolio because it\n",
    "        # was delisted.\n",
    "        if data.can_trade(asset):\n",
    "            order_target_percent(asset, 0)\n",
    "\n",
    "\n",
    "def initialize(context):\n",
    "    attach_pipeline(make_pipeline(), name='my_pipeline')\n",
    "   \n",
    "    # Rebalance each day.  In daily mode, this is equivalent to putting\n",
    "    # `rebalance` in our handle_data, but in minute mode, it's equivalent to\n",
    "    # running at the start of the day each day.\n",
    "    schedule_function(rebalance, date_rules.every_day())\n",
    "\n",
    "def handle_data(context, data):\n",
    "    context.pipeline_data = pipeline_output('my_pipeline')"
   ]
  },
  {
   "cell_type": "code",
   "execution_count": null,
   "metadata": {
    "scrolled": true
   },
   "outputs": [],
   "source": [
    "perf = zipline.run_algorithm(start=datetime(2016, 4, 1, 0, 0, 0, 0, pytz.timezone('Asia/Ho_Chi_Minh')),\n",
    "                                 end=datetime(2019, 4, 22, 0, 0, 0, 0, pytz.timezone('Asia/Ho_Chi_Minh')),\n",
    "                                 initialize=initialize,\n",
    "                                 handle_data=handle_data,\n",
    "                                 capital_base=1e9,\n",
    "                                 trading_calendar=get_calendar('HOSE'),\n",
    "                                 data_frequency='daily',\n",
    "                                 default_extension=True,\n",
    "                                 bundle='hose')"
   ]
  },
  {
   "cell_type": "code",
   "execution_count": null,
   "metadata": {},
   "outputs": [],
   "source": [
    "style.use('seaborn-dark')\n",
    "\n",
    "dpi = 300\n",
    "\n",
    "plt.figure(figsize=(1920/dpi, 1080/dpi), dpi=dpi)\n",
    "ax = perf.portfolio_value.pct_change().fillna(0).add(1).cumprod().sub(1).plot(label='portfolio-pecentage-change', color='green')\n",
    "vals = ax.get_yticks()\n",
    "ax.set_yticklabels(['{:,.0%}'.format(x) for x in vals])\n",
    "\n",
    "plt.legend(loc=0)\n",
    "plt.savefig('zipline_vanilla_algo.png', bbox_inches='tight')\n",
    "plt.show()"
   ]
  },
  {
   "cell_type": "code",
   "execution_count": null,
   "metadata": {},
   "outputs": [],
   "source": []
  }
 ],
 "metadata": {
  "kernelspec": {
   "display_name": "Python 3",
   "language": "python",
   "name": "python3"
  },
  "language_info": {
   "codemirror_mode": {
    "name": "ipython",
    "version": 3
   },
   "file_extension": ".py",
   "mimetype": "text/x-python",
   "name": "python",
   "nbconvert_exporter": "python",
   "pygments_lexer": "ipython3",
   "version": "3.5.6"
  }
 },
 "nbformat": 4,
 "nbformat_minor": 2
}
