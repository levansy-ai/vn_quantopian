{
 "cells": [
  {
   "cell_type": "markdown",
   "metadata": {},
   "source": [
    "# Zipline installation test\n",
    "--created by cryptocean team--"
   ]
  },
  {
   "cell_type": "code",
   "execution_count": null,
   "metadata": {},
   "outputs": [],
   "source": [
    "import warnings\n",
    "warnings.filterwarnings(\"ignore\")"
   ]
  },
  {
   "cell_type": "markdown",
   "metadata": {},
   "source": [
    "!zipline is similar with running zipline from terminal"
   ]
  },
  {
   "cell_type": "code",
   "execution_count": null,
   "metadata": {},
   "outputs": [],
   "source": [
    "# List all the available data bundles in your machine\n",
    "\n",
    "!zipline bundles"
   ]
  },
  {
   "cell_type": "code",
   "execution_count": null,
   "metadata": {},
   "outputs": [],
   "source": [
    "# Clean the free data bundle quantopian-quandl and re-ingest it\n",
    "\n",
    "!zipline clean --bundle quantopian-quandl --before 2099-01-01\n",
    "!zipline ingest -b quantopian-quandl"
   ]
  },
  {
   "cell_type": "code",
   "execution_count": null,
   "metadata": {},
   "outputs": [],
   "source": [
    "# The list of stocks in this bundle\n",
    "\n",
    "from zipline.data import bundles\n",
    "\n",
    "bundle = bundles.load('quantopian-quandl')\n",
    "bundle.asset_finder.retrieve_all(bundle.asset_finder.sids)"
   ]
  },
  {
   "cell_type": "code",
   "execution_count": null,
   "metadata": {},
   "outputs": [],
   "source": [
    "import pandas as pd\n",
    "import matplotlib.pyplot as plt\n",
    "from matplotlib import style\n",
    "from zipline.finance import commission, slippage\n",
    "import pytz\n",
    "pytz.all_timezones\n",
    "from zipline.api import order, record, symbol, set_benchmark\n",
    "import zipline\n",
    "import matplotlib.pyplot as plt\n",
    "from datetime import datetime"
   ]
  },
  {
   "cell_type": "code",
   "execution_count": null,
   "metadata": {},
   "outputs": [],
   "source": [
    "stocks = ['AAPL', 'MSFT']\n",
    "\n",
    "def initialize(context):\n",
    "    context.has_ordered = False\n",
    "    context.stocks = stocks\n",
    "\n",
    "    # Explicitly set the commission/slippage to the \"old\" value until we can\n",
    "    # rebuild example data.\n",
    "    # github.com/quantopian/zipline/blob/master/tests/resources/\n",
    "    # rebuild_example_data#L105\n",
    "    context.set_commission(commission.PerShare(cost=.0075, min_trade_cost=1.0))\n",
    "    context.set_slippage(slippage.VolumeShareSlippage())\n",
    "\n",
    "def handle_data(context, data):\n",
    "    if not context.has_ordered:\n",
    "        for stock in context.stocks:\n",
    "            order(symbol(stock), 100)\n",
    "        context.has_ordered = True\n",
    "\n",
    "def _test_args():\n",
    "    \"\"\"Extra arguments to use when zipline's automated tests run this example.\n",
    "    \"\"\"\n",
    "\n",
    "    return {\n",
    "        'start': pd.Timestamp('2008', tz='utc'),\n",
    "        'end': pd.Timestamp('2013', tz='utc'),\n",
    "    }"
   ]
  },
  {
   "cell_type": "code",
   "execution_count": null,
   "metadata": {},
   "outputs": [],
   "source": [
    "# Run algorithm\n",
    "\n",
    "perf = zipline.run_algorithm(start=datetime(2017, 1, 5, 0, 0, 0, 0, pytz.UTC),\n",
    "                                  end=datetime(2018, 3, 1, 0, 0, 0, 0, pytz.UTC),\n",
    "                                  initialize=initialize,\n",
    "                                  capital_base=100000,\n",
    "                                  handle_data=handle_data)"
   ]
  },
  {
   "cell_type": "code",
   "execution_count": null,
   "metadata": {},
   "outputs": [],
   "source": [
    "# Visualization\n",
    "\n",
    "style.use('ggplot')\n",
    "\n",
    "perf.portfolio_value.pct_change().fillna(0).add(1).cumprod().sub(1).plot(label='portfolio')\n",
    "plt.legend(loc=2)\n",
    "\n",
    "plt.show()"
   ]
  }
 ],
 "metadata": {
  "kernelspec": {
   "display_name": "Python 3",
   "language": "python",
   "name": "python3"
  },
  "language_info": {
   "codemirror_mode": {
    "name": "ipython",
    "version": 3
   },
   "file_extension": ".py",
   "mimetype": "text/x-python",
   "name": "python",
   "nbconvert_exporter": "python",
   "pygments_lexer": "ipython3",
   "version": "3.5.6"
  }
 },
 "nbformat": 4,
 "nbformat_minor": 2
}
